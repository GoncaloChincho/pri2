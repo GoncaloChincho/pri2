{
 "cells": [
  {
   "cell_type": "code",
   "execution_count": null,
   "metadata": {
    "collapsed": false
   },
   "outputs": [],
   "source": [
    "import nltk\n",
    "import nltk.data"
   ]
  },
  {
   "cell_type": "code",
   "execution_count": 1,
   "metadata": {
    "collapsed": true
   },
   "outputs": [],
   "source": [
    "import gensim"
   ]
  },
  {
   "cell_type": "code",
   "execution_count": 30,
   "metadata": {
    "collapsed": false
   },
   "outputs": [],
   "source": [
    "file = open('text.txt','r')\n",
    "text = file.read().replace('\\n','').lower()\n",
    "text = text.replace('. ','.')\n",
    "text = text.replace('.','. ')"
   ]
  },
  {
   "cell_type": "code",
   "execution_count": 14,
   "metadata": {
    "collapsed": false
   },
   "outputs": [],
   "source": [
    "tokenizer = nltk.data.load('tokenizers/punkt/english.pickle')"
   ]
  },
  {
   "cell_type": "code",
   "execution_count": 31,
   "metadata": {
    "collapsed": false
   },
   "outputs": [],
   "source": [
    "text = '\\n-----\\n'.join(tokenizer.tokenize(text))\n",
    "text = text.split('\\n-----\\n')"
   ]
  },
  {
   "cell_type": "code",
   "execution_count": 32,
   "metadata": {
    "collapsed": false
   },
   "outputs": [
    {
     "data": {
      "text/plain": [
       "['there is a weight of expectation on the shoulder pads of stranger things 2, the follow-up series to netflix’s revival of, and homage to, the adventurous spirit of 1980s films like the goonies, stand by me and et.',\n",
       " 'it made superstars of its young cast, was credited with re-energising the career of winona ryder, and won multiple awards, though its enormous impact seemed almost to take everyone by surprise, including netflix.',\n",
       " 'the power of nostalgia is certainly strong enough to paper over the series’ flaws: though charming and undoubtedly stylish, the first season didn’t quite match up to the might of its opening episode.',\n",
       " 'more sweet than scary, it was carried along by a clever eye for an iconic moment, likable characters and incisive tributes to its cinematic inspirations.',\n",
       " 'stranger things 2, then – its creators, the duffer brothers, have styled the title this way in a nod to the movies it references – asks more of itself and its audience.',\n",
       " 'it is bigger in ambition, bigger in story – and now bigger in budget, thanks to its success.',\n",
       " 'it certainly looks more expensive, though the special effects are never desperately showy, and its child stars are given emotional storylines demanding greater depth, to which some step up – noah schnapp as the long-suffering will is extraordinary – and some just about manage.',\n",
       " 'the action isn’t only confined to hawkins, indiana, and we’re introduced to several new characters in an attempt to broaden the show’s scope.',\n",
       " 'it’s impossible to discuss the plot in much detail – another sign of its success is that episodes were released early only to reviewers who agreed not to mention a list of proscribed storylines, which turn out to be the bulk of the series.',\n",
       " 'winona ryder’s career was rebooted with the first series of stranger things.',\n",
       " 'facebook twitter pinterest winona ryder’s career was rebooted with the first series of stranger things.',\n",
       " 'photograph: jackson lee davis/netflixit would be no fun to spoil anything, though, and stranger things 2 really is a delight, once it finally hits its stride.',\n",
       " 'it’s only when the final four instalments start to tear into the action that you realise quite how slow the rest of it has been; there’s a standalone episode that takes place in another location that puts a criminal dent in the pace by taking us away from the central gang at a crucial moment.',\n",
       " 'some of the additions to the cast, too, fall wide of the mark.',\n",
       " 'there’s a marauding gang of terrorist-punks who are more fashion-mag shoot than public menace; and billy, a bullying big brother who seems like a composite of every character kiefer sutherland played in the 80s, is even sillier than his hairspray mullet would imply.',\n",
       " 'he doesn’t even have the worst hair on the show.',\n",
       " 'but there’s a lot to admire in what the duffers have achieved.',\n",
       " 'it’s a gorgeous piece of television, in which everything from will’s stormy-night visions of the upside down to a simple shot of new girl max skateboarding looks meticulously considered.',\n",
       " 'there will be plenty of spot-the-reference moments for sci-fi and horror fans, particularly as it all starts to go wrong in the lab and the series progresses towards a darker, more perilous climax.',\n",
       " 'there’s as much to enjoy as admire, too.',\n",
       " 'the most popular character of the first season wasn’t will, or mike, or even eleven, though she was a close second.',\n",
       " 'it was barb, the plucky underdog killed off too early.',\n",
       " 'this sequel is filled with the spirit of barb, as the female characters stride to the front.',\n",
       " 'though she’s barely in it, lucas’s little sister lights up every scene she’s in.',\n",
       " 'max is the street-smart new member of the club (though her pejorative use of the word “stalker” seems rather modern for 1984).',\n",
       " 'nancy is less simpering and more crucial, and eleven is off on her own carrie-ish travels, where she meets more tough girls, though her return from where we left her last season is wrapped up a little too neatly.',\n",
       " 'even winona ryder’s joyce seems more focused on getting the job done this time, though it’s hard not to feel for her house, which once again ends up looking like a blue peter activity gone very badly awry.',\n",
       " 'stranger things can feel as if it straddles two worlds, just as in the show.',\n",
       " 'it’s part retro teen drama, with plenty of adolescent angst, and part gruesome sci-fi horror, with this season in particular ramping up the thrills.',\n",
       " 'sometimes these elements can hit a tonal barrier, in which neither is given space to fully breathe.',\n",
       " 'but compromise, as police chief jim hopper gently explains to eleven, means “kinda halfway happy”.',\n",
       " 'though there remains a frustrating sense that if only a few kinks were ironed out, this could be one of the best tv shows around, it would take a cold heart not to warm to stranger things 2.']"
      ]
     },
     "execution_count": 32,
     "metadata": {},
     "output_type": "execute_result"
    }
   ],
   "source": [
    "text"
   ]
  },
  {
   "cell_type": "code",
   "execution_count": null,
   "metadata": {
    "collapsed": true
   },
   "outputs": [],
   "source": []
  }
 ],
 "metadata": {
  "kernelspec": {
   "display_name": "Python 3",
   "language": "python",
   "name": "python3"
  },
  "language_info": {
   "codemirror_mode": {
    "name": "ipython",
    "version": 3
   },
   "file_extension": ".py",
   "mimetype": "text/x-python",
   "name": "python",
   "nbconvert_exporter": "python",
   "pygments_lexer": "ipython3",
   "version": "3.6.3"
  }
 },
 "nbformat": 4,
 "nbformat_minor": 2
}
