{
 "cells": [
  {
   "cell_type": "code",
   "execution_count": 124,
   "metadata": {
    "collapsed": true
   },
   "outputs": [],
   "source": [
    "import nltk\n",
    "import nltk.data\n",
    "import sys\n",
    "\n",
    "from nltk.stem.porter import *\n",
    "from sklearn.feature_extraction.text import TfidfVectorizer\n",
    "from sklearn.metrics.pairwise import cosine_similarity\n",
    "from collections import Counter\n",
    "from functions import *\n",
    "\n",
    "def text_to_sentences(text):\n",
    "    text = re.sub('(\\w)(\\\\n)+', r'\\1. ',text)\n",
    "    tokenizer = nltk.data.load('tokenizers/punkt/english.pickle')\n",
    "\n",
    "    text = '\\n-----\\n'.join(tokenizer.tokenize(text))\n",
    "    return text.split('\\n-----\\n')\n",
    "\n",
    "\n",
    "\n",
    "def build_graph_alist(documents,cosine_matrix,t):\n",
    "    graph = {}\n",
    "    for i in range(len(documents)):\n",
    "        id = str(i)\n",
    "        graph[id] = []\n",
    "        for j in range(len(cosine_matrix[i])):\n",
    "            if cosine_matrix[i][j] >= t and i != j:\n",
    "                graph[id].append(str(j))\n",
    "    return graph\n",
    "\n",
    "def prestige(uid,ranks,links):\n",
    "    sum = 0\n",
    "    for vid in links[uid]:\n",
    "        sum += ranks[vid] / len(links[vid])\n",
    "    return sum\n",
    "\n",
    "def rank(links,itermax,damping):\n",
    "    pr = {}\n",
    "    i = 0\n",
    "    ndocs = len(links)\n",
    "    \n",
    "    for doc in links:\n",
    "        pr[doc] = 1\n",
    "        \n",
    "    while i < itermax:\n",
    "        aux = pr\n",
    "        for doc in links:\n",
    "            aux[doc] = (damping/ndocs) + ((1 - damping) * prestige(doc,pr,links))\n",
    "        pr = aux\n",
    "        i += 1\n",
    "    return pr\n",
    "\n",
    "\n",
    "def get_top_n(dictionary,n):\n",
    "    d = Counter(dictionary)\n",
    "    return d.most_common(n)"
   ]
  },
  {
   "cell_type": "code",
   "execution_count": 125,
   "metadata": {},
   "outputs": [],
   "source": [
    "import nltk\n",
    "import re\n",
    "from bs4 import BeautifulSoup    \n",
    "\n",
    "def remove_img_tags(data):\n",
    "    p = re.compile(r'<img.*?/>')\n",
    "    return p.sub('', data)\n",
    "\n",
    "sources = ['cnn', 'latimes', 'nytimes', 'washington']\n",
    "news = \"\"\n",
    "allnews = []\n",
    "links = []\n",
    "items = []\n",
    "sentences = []\n",
    "\n",
    "for source in sources:\n",
    "    with open('worldnews/' + source + '.xml', encoding = \"utf8\") as f:\n",
    "        soup = BeautifulSoup(f, 'xml')\n",
    "        items = soup.find_all('item')\n",
    "    \n",
    "    for item in items:\n",
    "        news = item.find('title').get_text() + '\\n'\n",
    "        news += remove_img_tags(item.find('description').get_text()).replace('<p>', '').replace('</p>', '')  + '\\n'\n",
    "        sentences = text_to_sentences(news)\n",
    "        for i in range(len(sentences)):\n",
    "            if source == sources[0]:\n",
    "                links.append(item.find('feedburner:origLink').get_text())\n",
    "            else:\n",
    "                links.append(item.find('link').get_text())\n",
    "        temp=allnews\n",
    "        allnews=temp+sentences\n",
    "        \n",
    "#print(allnews)"
   ]
  },
  {
   "cell_type": "code",
   "execution_count": 126,
   "metadata": {},
   "outputs": [],
   "source": [
    "import copy\n",
    "\n",
    "sentences = copy.deepcopy(allnews)\n",
    "for s in range(len(sentences)):\n",
    "    sentences[s]=sentences[s].lower()\n",
    "\n",
    "def build_summary(sentences):\n",
    "    vec = TfidfVectorizer()\n",
    "\n",
    "    X = vec.fit_transform(sentences)\n",
    "    S = cosine_similarity(X)\n",
    "\n",
    "    graph = build_graph_alist(sentences,S,0.05)\n",
    "\n",
    "    ranks = rank(graph,50,0.15)\n",
    "\n",
    "    top = get_top_n(ranks,5)\n",
    "    summary = \"\"\"<h1>World News</h1><br>\"\"\"\n",
    "    for i in top:\n",
    "        summary += \"\"\"<a href=\" \"\"\"+links[int(i[0])]+\"\"\" \" target=\"_blank\">\"\"\"+allnews[int(i[0])] + \"\"\"</a><br><br>\"\"\"\n",
    "    return summary\n",
    "\n",
    "\n",
    "#print(sentences)\n",
    "basic_summary = build_summary(sentences)\n",
    "#print(basic_summary)\n",
    "#print(allnews)"
   ]
  },
  {
   "cell_type": "code",
   "execution_count": 127,
   "metadata": {
    "collapsed": true
   },
   "outputs": [],
   "source": [
    "with open('page.html', 'w') as f:\n",
    "    f.write(basic_summary)"
   ]
  },
  {
   "cell_type": "code",
   "execution_count": null,
   "metadata": {
    "collapsed": true
   },
   "outputs": [],
   "source": []
  }
 ],
 "metadata": {
  "kernelspec": {
   "display_name": "Python 3",
   "language": "python",
   "name": "python3"
  },
  "language_info": {
   "codemirror_mode": {
    "name": "ipython",
    "version": 3
   },
   "file_extension": ".py",
   "mimetype": "text/x-python",
   "name": "python",
   "nbconvert_exporter": "python",
   "pygments_lexer": "ipython3",
   "version": "3.6.3"
  }
 },
 "nbformat": 4,
 "nbformat_minor": 2
}
