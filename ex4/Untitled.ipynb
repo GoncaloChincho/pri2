{
 "cells": [
  {
   "cell_type": "code",
   "execution_count": 121,
   "metadata": {},
   "outputs": [],
   "source": [
    "import re\n",
    "from bs4 import BeautifulSoup    \n",
    "\n",
    "def remove_img_tags(data):\n",
    "    p = re.compile(r'<img.*?/>')\n",
    "    return p.sub('', data)\n",
    "\n",
    "def getWorldNews(source):\n",
    "    with open('worldnews/' + source + '.xml', encoding=\"utf8\") as f:\n",
    "        soup = BeautifulSoup(f, 'xml')\n",
    "    items = soup.find_all('item')\n",
    "\n",
    "    worldnews = \"\"\n",
    "\n",
    "    for item in items:\n",
    "        worldnews += item.find('title').get_text() + '\\n'\n",
    "        worldnews += remove_img_tags(item.find('description').get_text()).replace('<p>', '').replace('</p>', '')  + '\\n'\n",
    "        \n",
    "    with open('worldnews/' + source + '.txt', 'w', encoding='utf-8') as f:\n",
    "        f.write(worldnews)\n",
    "        "
   ]
  },
  {
   "cell_type": "code",
   "execution_count": 122,
   "metadata": {},
   "outputs": [],
   "source": [
    "getWorldNews('cnn')\n",
    "getWorldNews('latimes')\n",
    "getWorldNews('nytimes')\n",
    "getWorldNews('washington')"
   ]
  },
  {
   "cell_type": "code",
   "execution_count": null,
   "metadata": {
    "collapsed": true
   },
   "outputs": [],
   "source": []
  }
 ],
 "metadata": {
  "kernelspec": {
   "display_name": "Python 3",
   "language": "python",
   "name": "python3"
  },
  "language_info": {
   "codemirror_mode": {
    "name": "ipython",
    "version": 3
   },
   "file_extension": ".py",
   "mimetype": "text/x-python",
   "name": "python",
   "nbconvert_exporter": "python",
   "pygments_lexer": "ipython3",
   "version": "3.6.3"
  }
 },
 "nbformat": 4,
 "nbformat_minor": 2
}
