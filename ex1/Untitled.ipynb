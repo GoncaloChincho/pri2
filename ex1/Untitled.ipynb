{
 "cells": [
  {
   "cell_type": "code",
   "execution_count": 86,
   "metadata": {
    "collapsed": true
   },
   "outputs": [],
   "source": [
    "import nltk"
   ]
  },
  {
   "cell_type": "code",
   "execution_count": 20,
   "metadata": {
    "collapsed": false
   },
   "outputs": [],
   "source": [
    "stemmer = PorterStemmer()\n",
    "from wordsegment import load, segment\n",
    "from functions import text_to_sentences"
   ]
  },
  {
   "cell_type": "code",
   "execution_count": 68,
   "metadata": {
    "collapsed": false
   },
   "outputs": [],
   "source": [
    "file = open('text.txt','r')"
   ]
  },
  {
   "cell_type": "code",
   "execution_count": 69,
   "metadata": {
    "collapsed": false
   },
   "outputs": [],
   "source": [
    "text  = file.read()\n"
   ]
  },
  {
   "cell_type": "code",
   "execution_count": 83,
   "metadata": {
    "collapsed": false
   },
   "outputs": [
    {
     "name": "stdout",
     "output_type": "stream",
     "text": [
      "['there', 'is', 'a', 'weight', 'of', 'expectation', 'on', 'the', 'shoulderpads', 'of', 'stranger', 'things', '2', 'the', 'followup', 'series', 'to', 'netflix', 's', 'revival', 'of', 'and', 'homage', 'to', 'the', 'adventurous', 'spirit', 'of', '1980s', 'films', 'like', 'the', 'goonies', 'standby', 'me', 'and', 'et', 'it', 'made', 'superstars', 'of', 'its', 'young', 'cast', 'was', 'credited', 'with', 're', 'energising', 'the', 'career', 'of', 'winona', 'ryder', 'and', 'won', 'multiple', 'awards', 'though', 'its', 'enormous', 'impact', 'seemed', 'almost', 'to', 'take', 'everyone', 'by', 'surprise', 'including', 'netflix', 'the', 'power', 'of', 'nostalgia', 'is', 'certainly', 'strong', 'enough', 'to', 'paper', 'over', 'the', 'series', 'flaws', 'though', 'charming', 'and', 'undoubtedly', 'stylish', 'the', 'first', 'season', 'didnt', 'quite', 'match', 'up', 'to', 'the', 'might', 'of', 'its', 'opening', 'episode', 'more', 'sweet', 'than', 'scary', 'it', 'was', 'carried', 'along', 'by', 'a', 'clever', 'eye', 'for', 'an', 'iconic', 'moment', 'likable', 'characters', 'and', 'incisive', 'tributes', 'to', 'its', 'cinematic', 'inspirations', 'stranger', 'things', '2', 'then', 'its', 'creators', 'the', 'duffer', 'brothers', 'have', 'styled', 'the', 'title', 'this', 'way', 'in', 'a', 'nod', 'to', 'the', 'movies', 'it', 'references', 'asks', 'more', 'of', 'itself', 'and', 'its', 'audience', 'it', 'is', 'bigger', 'in', 'ambition', 'bigger', 'in', 'story', 'and', 'now', 'bigger', 'in', 'budget', 'thanks', 'to', 'its', 'success', 'it', 'certainly', 'looks', 'more', 'expensive', 'though', 'the', 'special', 'effects', 'are', 'never', 'desperately', 'showy', 'and', 'its', 'child', 'stars', 'are', 'given', 'emotional', 'storylines', 'demanding', 'greater', 'depth', 'to', 'which', 'some', 'step', 'up', 'noah', 'schnapp', 'as', 'the', 'longsuffering', 'willis', 'extraordinary', 'and', 'some', 'just', 'about', 'manage', 'the', 'action', 'isnt', 'only', 'confined', 'to', 'hawkins', 'indiana', 'and', 'were', 'introduced', 'to', 'several', 'new', 'characters', 'in', 'an', 'attempt', 'to', 'broaden', 'the', 'shows', 'scope', 'its', 'impossible', 'to', 'discuss', 'the', 'plot', 'in', 'much', 'detail', 'another', 'sign', 'of', 'its', 'success', 'is', 'that', 'episodes', 'were', 'released', 'early', 'only', 'to', 'reviewers', 'who', 'agreed', 'not', 'to', 'mention', 'a', 'list', 'of', 'proscribed', 'storylines', 'which', 'turn', 'out', 'to', 'be', 'the', 'bulk', 'of', 'the', 'series', 'winona', 'ryders', 'career', 'was', 'rebooted', 'with', 'the', 'first', 'series', 'of', 'stranger', 'things', 'it', 'would', 'be', 'no', 'fun', 'to', 'spoil', 'anything', 'though', 'and', 'stranger', 'things', '2', 'really', 'is', 'a', 'delight', 'once', 'it', 'finally', 'hits', 'its', 'stride', 'its', 'only', 'when', 'the', 'final', 'four', 'instalments', 'start', 'to', 'tear', 'into', 'the', 'action', 'that', 'you', 'realise', 'quite', 'how', 'slow', 'the', 'rest', 'of', 'it', 'has', 'been', 'theres', 'a', 'standalone', 'episode', 'that', 'takes', 'place', 'in', 'another', 'location', 'that', 'puts', 'a', 'criminal', 'dent', 'in', 'the', 'pace', 'by', 'taking', 'us', 'away', 'from', 'the', 'central', 'gang', 'at', 'a', 'crucial', 'moment', 'some', 'of', 'the', 'additions', 'to', 'the', 'cast', 'too', 'fall', 'wide', 'of', 'the', 'mark', 'theresa', 'marauding', 'gang', 'of', 'terrorist', 'punks', 'who', 'are', 'more', 'fashion', 'mag', 'shoot', 'than', 'public', 'menace', 'and', 'billy', 'a', 'bullying', 'big', 'brother', 'who', 'seems', 'like', 'a', 'composite', 'of', 'every', 'character', 'kiefer', 'sutherland', 'played', 'in', 'the', '80si', 'seven', 'sillier', 'than', 'his', 'hairspray', 'mullet', 'would', 'imply', 'he', 'doesnt', 'even', 'have', 'the', 'worst', 'hair', 'on', 'the', 'show', 'but', 'theres', 'a', 'lot', 'to', 'admire', 'in', 'what', 'the', 'duffers', 'have', 'achieved', 'its', 'a', 'gorgeous', 'piece', 'of', 'television', 'in', 'which', 'everything', 'from', 'wills', 'stormy', 'night', 'visions', 'of', 'the', 'upside', 'down', 'to', 'a', 'simple', 'shot', 'of', 'new', 'girl', 'max', 'skateboarding', 'looks', 'meticulously', 'considered', 'there', 'will', 'be', 'plenty', 'of', 'spot', 'the', 'reference', 'moments', 'for', 'scifi', 'and', 'horror', 'fans', 'particularly', 'as', 'it', 'all', 'starts', 'to', 'go', 'wrong', 'in', 'the', 'lab', 'and', 'the', 'series', 'progresses', 'towards', 'a', 'darker', 'more', 'perilous', 'climax', 'theres', 'as', 'much', 'to', 'enjoy', 'as', 'admire', 'too', 'the', 'most', 'popular', 'character', 'of', 'the', 'first', 'season', 'wasnt', 'will', 'or', 'mike', 'or', 'even', 'el', 'even', 'though', 'she', 'was', 'a', 'close', 'second', 'it', 'was', 'barb', 'the', 'plucky', 'underdog', 'killed', 'off', 'too', 'early', 'this', 'sequel', 'is', 'filled', 'with', 'the', 'spirit', 'of', 'barbas', 'the', 'female', 'characters', 'stride', 'to', 'the', 'front', 'though', 'she', 's', 'barely', 'in', 'it', 'lucas', 's', 'little', 'sister', 'lights', 'up', 'every', 'scene', 'shes', 'in', 'maxis', 'the', 'street', 'smart', 'new', 'member', 'of', 'the', 'club', 'though', 'her', 'pejorative', 'use', 'of', 'the', 'word', 'stalker', 'seems', 'rather', 'modern', 'for', '1984', 'nancy', 'is', 'less', 'simpering', 'and', 'more', 'crucial', 'and', 'eleven', 'is', 'off', 'on', 'her', 'own', 'carrie', 'ish', 'travels', 'where', 'she', 'meets', 'more', 'tough', 'girls', 'though', 'her', 'return', 'from', 'where', 'we', 'left', 'her', 'last', 'season', 'is', 'wrapped', 'up', 'a', 'little', 'too', 'neatly', 'even', 'winona', 'ryders', 'joyce', 'seems', 'more', 'focused', 'on', 'getting', 'the', 'job', 'done', 'this', 'time', 'though', 'its', 'hard', 'not', 'to', 'feel', 'for', 'her', 'house', 'which', 'once', 'again', 'ends', 'up', 'looking', 'like', 'a', 'blue', 'peter', 'activity', 'gone', 'very', 'badly', 'awry', 'stranger', 'things', 'can', 'feel', 'as', 'if', 'it', 'straddles', 'two', 'worlds', 'just', 'as', 'in', 'the', 'show', 'its', 'part', 'retro', 'teen', 'drama', 'with', 'plenty', 'of', 'adolescent', 'angst', 'and', 'part', 'gruesome', 'scifi', 'horror', 'with', 'this', 'season', 'in', 'particular', 'ramping', 'up', 'the', 'thrills', 'sometimes', 'these', 'elements', 'can', 'hit', 'atonal', 'barrier', 'in', 'which', 'neither', 'is', 'given', 'space', 'to', 'fully', 'breathe', 'but', 'compromise', 'as', 'police', 'chief', 'jim', 'hopper', 'gently', 'explains', 'to', 'eleven', 'means', 'kinda', 'halfway', 'happy', 'though', 'there', 'remains', 'a', 'frustrating', 'sense', 'that', 'if', 'only', 'a', 'few', 'kinks', 'were', 'ironed', 'out', 'this', 'could', 'be', 'one', 'of', 'the', 'best', 'tv', 'shows', 'around', 'it', 'would', 'take', 'a', 'cold', 'heart', 'not', 'to', 'warm', 'to', 'stranger', 'things', '2']\n"
     ]
    }
   ],
   "source": [
    "print(segment(text))"
   ]
  },
  {
   "cell_type": "code",
   "execution_count": 33,
   "metadata": {
    "collapsed": false
   },
   "outputs": [],
   "source": [
    "stemmed = \"\"\n",
    "for word in seg:\n",
    "    stemmed += stemmer.stem(word) + ' '"
   ]
  },
  {
   "cell_type": "code",
   "execution_count": 34,
   "metadata": {
    "collapsed": false
   },
   "outputs": [
    {
     "name": "stdout",
     "output_type": "stream",
     "text": [
      "there is a weight of expect on the shoulderpad of stranger thing 2 the followup seri to netflix s reviv of and homag to the adventur spirit of 1980 film like the gooni standbi me and et \n"
     ]
    }
   ],
   "source": [
    "print(stemmed)"
   ]
  },
  {
   "cell_type": "code",
   "execution_count": 13,
   "metadata": {
    "collapsed": false
   },
   "outputs": [
    {
     "name": "stdout",
     "output_type": "stream",
     "text": [
      "admir\n"
     ]
    }
   ],
   "source": [
    "print(stemmer.stem('admire'))"
   ]
  },
  {
   "cell_type": "code",
   "execution_count": 81,
   "metadata": {
    "collapsed": true
   },
   "outputs": [],
   "source": [
    "def stem_sentence(sentence):\n",
    "    stemmer = PorterStemmer()\n",
    "    \n",
    "    stemmed = \"\"\n",
    "    sentence = segment(sentence)\n",
    "    for word in sentence:\n",
    "        stemmed += stemmer.stem(word) + ' '\n",
    "    return stemmed"
   ]
  },
  {
   "cell_type": "code",
   "execution_count": 77,
   "metadata": {
    "collapsed": true
   },
   "outputs": [],
   "source": [
    "def stem_text(text):\n",
    "    text = re.sub(\"([a-zA-Z0-9])’[a-zA-Z0-9]\",r'\\1',text)\n",
    "    sentences = text_to_sentences(text)\n",
    "    stemmed = []\n",
    "    for sentence in sentences:\n",
    "        stemmed.append(stem_sentence(sentence))\n",
    "    return stemmed"
   ]
  },
  {
   "cell_type": "code",
   "execution_count": 89,
   "metadata": {
    "collapsed": false
   },
   "outputs": [
    {
     "name": "stdout",
     "output_type": "stream",
     "text": [
      "There is a weight of expectation on the shoulder pads of Stranger Things 2, the follow-up series to Netflix’s revival of, and homage to, the adventurous spirit of 1980s films like The Goonies, Stand By Me and ET.\n",
      "\n",
      "It made superstars of its young cast, was credited with re-energising the career of Winona Ryder, and won multiple awards, though its enormous impact seemed almost to take everyone by surprise, including Netflix. \n",
      "\n",
      "The power of nostalgia is certainly strong enough to paper over the series’ flaws: though charming and undoubtedly stylish, the first season didn’t quite match up to the might of its opening episode. More sweet than scary, it was carried along by a clever eye for an iconic moment, likable characters and incisive tributes to its cinematic inspirations.\n",
      "\n",
      "Stranger Things 2, then – its creators, the Duffer Brothers, have styled the title this way in a nod to the movies it references – asks more of itself and its audience. It is bigger in ambition, bigger in story – and now bigger in budget, thanks to its success.\n",
      "\n",
      "It certainly looks more expensive, though the special effects are never desperately showy, and its child stars are given emotional storylines demanding greater depth, to which some step up – Noah Schnapp as the long-suffering Will is extraordinary – and some just about manage.\n",
      "\n",
      "The action isn’t only confined to Hawkins, Indiana, and we’re introduced to several new characters in an attempt to broaden the show’s scope. It’s impossible to discuss the plot in much detail – another sign of its success is that episodes were released early only to reviewers who agreed not to mention a list of proscribed storylines, which turn out to be the bulk of the series.\n",
      "\n",
      "Winona Ryder’s career was rebooted with the first series of Stranger Things.\n",
      "It would be no fun to spoil anything, though, and Stranger Things 2 really is a delight, once it finally hits its stride. It’s only when the final four instalments start to tear into the action that you realise quite how slow the rest of it has been; there’s a standalone episode that takes place in another location that puts a criminal dent in the pace by taking us away from the central gang at a crucial moment. \n",
      "\n",
      "Some of the additions to the cast, too, fall wide of the mark. There’s a marauding gang of terrorist-punks who are more fashion-mag shoot than public menace; and Billy, a bullying big brother who seems like a composite of every character Kiefer Sutherland played in the 80s, is even sillier than his hairspray mullet would imply. He doesn’t even have the worst hair on the show.\n",
      "\n",
      "But there’s a lot to admire in what the Duffers have achieved. It’s a gorgeous piece of television, in which everything from Will’s stormy-night visions of the Upside Down to a simple shot of new girl Max skateboarding looks meticulously considered. \n",
      "\n",
      "There will be plenty of spot-the-reference moments for sci-fi and horror fans, particularly as it all starts to go wrong in the lab and the series progresses towards a darker, more perilous climax.\n",
      "\n",
      "There’s as much to enjoy as admire, too. The most popular character of the first season wasn’t Will, or Mike, or even Eleven, though she was a close second. It was Barb, the plucky underdog killed off too early. This sequel is filled with the spirit of Barb, as the female characters stride to the front.\n",
      "\n",
      "Though she’s barely in it, Lucas’s little sister lights up every scene she’s in. Max is the street-smart new member of the club (though her pejorative use of the word “stalker” seems rather modern for 1984). Nancy is less simpering and more crucial, and Eleven is off on her own Carrie-ish travels, where she meets more tough girls, though her return from where we left her last season is wrapped up a little too neatly. Even Winona Ryder’s Joyce seems more focused on getting the job done this time, though it’s hard not to feel for her house, which once again ends up looking like a Blue Peter activity gone very badly awry.\n",
      "\n",
      "Stranger Things can feel as if it straddles two worlds, just as in the show. It’s part retro teen drama, with plenty of adolescent angst, and part gruesome sci-fi horror, with this season in particular ramping up the thrills. Sometimes these elements can hit a tonal barrier, in which neither is given space to fully breathe. But compromise, as police chief Jim Hopper gently explains to Eleven, means “kinda halfway happy”. Though there remains a frustrating sense that if only a few kinks were ironed out, this could be one of the best TV shows around, it would take a cold heart not to warm to Stranger Things 2.\n",
      "\n"
     ]
    }
   ],
   "source": [
    "print(text)"
   ]
  },
  {
   "cell_type": "code",
   "execution_count": 87,
   "metadata": {
    "collapsed": false
   },
   "outputs": [
    {
     "name": "stdout",
     "output_type": "stream",
     "text": [
      "[nltk_data] Downloading package stopwords to\n",
      "[nltk_data]     /home/goncalo/nltk_data...\n",
      "[nltk_data]   Unzipping corpora/stopwords.zip.\n"
     ]
    }
   ],
   "source": [
    "from nltk.corpus import stopwords\n",
    "nltk.download('stopwords')\n",
    "cachedStopWords = stopwords.words(\"english\")"
   ]
  },
  {
   "cell_type": "code",
   "execution_count": 88,
   "metadata": {
    "collapsed": true
   },
   "outputs": [],
   "source": [
    "def remove_stopwords(text):\n",
    "    return' '.join([word for word in text.split() if word not in cachedStopWords])"
   ]
  },
  {
   "cell_type": "code",
   "execution_count": 90,
   "metadata": {
    "collapsed": false
   },
   "outputs": [
    {
     "name": "stdout",
     "output_type": "stream",
     "text": [
      "There weight expectation shoulder pads Stranger Things 2, follow-up series Netflix’s revival of, homage to, adventurous spirit 1980s films like The Goonies, Stand By Me ET. It made superstars young cast, credited re-energising career Winona Ryder, multiple awards, though enormous impact seemed almost take everyone surprise, including Netflix. The power nostalgia certainly strong enough paper series’ flaws: though charming undoubtedly stylish, first season didn’t quite match might opening episode. More sweet scary, carried along clever eye iconic moment, likable characters incisive tributes cinematic inspirations. Stranger Things 2, – creators, Duffer Brothers, styled title way nod movies references – asks audience. It bigger ambition, bigger story – bigger budget, thanks success. It certainly looks expensive, though special effects never desperately showy, child stars given emotional storylines demanding greater depth, step – Noah Schnapp long-suffering Will extraordinary – manage. The action isn’t confined Hawkins, Indiana, we’re introduced several new characters attempt broaden show’s scope. It’s impossible discuss plot much detail – another sign success episodes released early reviewers agreed mention list proscribed storylines, turn bulk series. Winona Ryder’s career rebooted first series Stranger Things. It would fun spoil anything, though, Stranger Things 2 really delight, finally hits stride. It’s final four instalments start tear action realise quite slow rest been; there’s standalone episode takes place another location puts criminal dent pace taking us away central gang crucial moment. Some additions cast, too, fall wide mark. There’s marauding gang terrorist-punks fashion-mag shoot public menace; Billy, bullying big brother seems like composite every character Kiefer Sutherland played 80s, even sillier hairspray mullet would imply. He doesn’t even worst hair show. But there’s lot admire Duffers achieved. It’s gorgeous piece television, everything Will’s stormy-night visions Upside Down simple shot new girl Max skateboarding looks meticulously considered. There plenty spot-the-reference moments sci-fi horror fans, particularly starts go wrong lab series progresses towards darker, perilous climax. There’s much enjoy admire, too. The popular character first season wasn’t Will, Mike, even Eleven, though close second. It Barb, plucky underdog killed early. This sequel filled spirit Barb, female characters stride front. Though she’s barely it, Lucas’s little sister lights every scene she’s in. Max street-smart new member club (though pejorative use word “stalker” seems rather modern 1984). Nancy less simpering crucial, Eleven Carrie-ish travels, meets tough girls, though return left last season wrapped little neatly. Even Winona Ryder’s Joyce seems focused getting job done time, though it’s hard feel house, ends looking like Blue Peter activity gone badly awry. Stranger Things feel straddles two worlds, show. It’s part retro teen drama, plenty adolescent angst, part gruesome sci-fi horror, season particular ramping thrills. Sometimes elements hit tonal barrier, neither given space fully breathe. But compromise, police chief Jim Hopper gently explains Eleven, means “kinda halfway happy”. Though remains frustrating sense kinks ironed out, could one best TV shows around, would take cold heart warm Stranger Things 2.\n"
     ]
    }
   ],
   "source": [
    "print(remove_stopwords(text))"
   ]
  },
  {
   "cell_type": "code",
   "execution_count": null,
   "metadata": {
    "collapsed": true
   },
   "outputs": [],
   "source": []
  }
 ],
 "metadata": {
  "kernelspec": {
   "display_name": "Python 3",
   "language": "python",
   "name": "python3"
  },
  "language_info": {
   "codemirror_mode": {
    "name": "ipython",
    "version": 3
   },
   "file_extension": ".py",
   "mimetype": "text/x-python",
   "name": "python",
   "nbconvert_exporter": "python",
   "pygments_lexer": "ipython3",
   "version": "3.6.3"
  }
 },
 "nbformat": 4,
 "nbformat_minor": 2
}
