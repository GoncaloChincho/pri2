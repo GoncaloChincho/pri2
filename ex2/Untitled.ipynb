{
 "cells": [
  {
   "cell_type": "code",
   "execution_count": 216,
   "metadata": {
    "collapsed": false
   },
   "outputs": [],
   "source": [
    "import os\n",
    "import numpy as np\n",
    "import nltk\n",
    "from sklearn.feature_extraction.text import TfidfVectorizer\n",
    "from sklearn.metrics.pairwise import cosine_similarity\n",
    "import re\n",
    "exec(open('../functions.py').read())"
   ]
  },
  {
   "cell_type": "code",
   "execution_count": null,
   "metadata": {
    "collapsed": true
   },
   "outputs": [],
   "source": [
    "#Build graph adjacency list\n",
    "def build_graph_matrix(documents,cosine_matrix,t):\n",
    "    matrix = np.zeros\n",
    "    for i in range(len(documents)):\n",
    "        id = str(i)\n",
    "        graph[id] = []\n",
    "        for j in range(len(cosine_matrix[i])):\n",
    "            if cosine_matrix[i][j] >= t and i != j:\n",
    "                graph[id].append(str(j))\n",
    "    return graph"
   ]
  },
  {
   "cell_type": "code",
   "execution_count": 210,
   "metadata": {
    "collapsed": false
   },
   "outputs": [],
   "source": [
    "with open(r'../TeMario/source/ce94ab10-a.txt','r',encoding='latin-1') as file:\n",
    "    text = file.read()"
   ]
  },
  {
   "cell_type": "code",
   "execution_count": 218,
   "metadata": {
    "collapsed": false
   },
   "outputs": [
    {
     "name": "stdout",
     "output_type": "stream",
     "text": [
      "['in96ab19-a.txt', 'op94ab03-b.txt', 'ce94ja25-a.txt', 'in96ab25-a.txt', 'mu94de11-a.txt', 'in96jl01-a.txt', 'op94ab01-a.txt', 'in96jl02-a.txt', 'op94ag14-b.txt', 'op94ag07-c.txt', 'mu94ag06-a.txt', 'mu94de04-c.txt', 'op94ag07-b.txt', 'in96fe14-a.txt', 'in96ab30-a.txt', 'ce94jl31-e.txt', 'po96fe15-a.txt', 'op94ag07-a.txt', 'ce94ab17-a.txt', 'mu94de27-a.txt', 'mu94de07-a.txt', 'ce94ja8-a.txt', 'in96ab18-b.txt', 'mu94ag09-a.txt', 'ce94ab24-f.txt', 'in96ju18-a.txt', 'po96ab09-a.txt', 'op94ab18-a.txt', 'po96fe14-d.txt', 'in96fe29-a.txt', 'po96fe14-a.txt', 'in96fe26-b.txt', 'in96fe29-b.txt', 'op94ab21-a.txt', 'op94ab26-a.txt', 'mu94de09-a.txt', 'po96fe28-a.txt', 'mu94ab04-a.txt', 'po96jl01-b.txt', 'op94ab24-a.txt', 'op94ag10-a.txt', 'ce94jl11-c.txt', 'mu94de21-a.txt', 'in96ju10-a.txt', 'in96fe26-a.txt', 'mu94de05-a.txt', 'in96ab26-b.txt', 'mu94ab03-a.txt', 'op94ab01-b.txt', 'ce94ja21-e.txt', 'po96ju13-a.txt', 'op94ab10-a.txt', 'ce94ja21-f.txt', 'ce94jl11-b.txt', 'op94ab02-a.txt', 'po96fe13-a.txt', 'in96ju13-a.txt', 'ce94jl31-c.txt', 'po96fe14-b.txt', 'po96fe09-a.txt', 'mu94ag16-a.txt', 'mu94de04-b.txt', 'ce94ab10-a.txt', 'po96fe09-b.txt', 'op94ag14-a.txt', 'ce94ab24-e.txt', 'in96fe13-a.txt', 'po96ju10-a.txt', 'in96ju19-a.txt', 'mu94de04-d.txt', 'mu94ab02-b.txt', 'po96fe07-b.txt', 'mu94ag07-b.txt', 'ce94jl11-a.txt', 'op94ag09-a.txt', 'po96ab09-c.txt', 'mu94de22-a.txt', 'mu94de02-a.txt', 'po96ab19-a.txt', 'op94ag24-a.txt', 'po96fe14-c.txt', 'mu94ab09-a.txt', 'ce94ab24-c.txt', 'ce94ja25-b.txt', 'po96jl02-a.txt', 'in96fe15-a.txt', 'mu94de14-a.txt', 'op94ag21-a.txt', 'ce94jl31-d.txt', 'ce94jl31-b.txt', 'ce94jl31-a.txt', 'in96ab09-b.txt', 'op94ab04-a.txt', 'op94ab06-a.txt', 'po96fe26-a.txt', 'in96fe08-a.txt', 'ce94ja21-d.txt', 'po96jl01-a.txt', 'ce94jl10-a.txt', 'po96ab19-b.txt']\n"
     ]
    }
   ],
   "source": [
    "print(os.listdir('../TeMario/source/'))"
   ]
  },
  {
   "cell_type": "code",
   "execution_count": 127,
   "metadata": {
    "collapsed": false
   },
   "outputs": [],
   "source": [
    "vec = TfidfVectorizer()\n",
    "\n",
    "X = vec.fit_transform(sentences)\n",
    "S = cosine_similarity(X)"
   ]
  },
  {
   "cell_type": "markdown",
   "metadata": {
    "collapsed": false
   },
   "source": [
    "# WEIGHTS"
   ]
  },
  {
   "cell_type": "code",
   "execution_count": 157,
   "metadata": {
    "collapsed": true
   },
   "outputs": [],
   "source": [
    "def build_graph_matrix(sentences,prior_func,weight_func):\n",
    "    if not (callable(prior_func) and callable(weight_func)):\n",
    "        return 'Not functions!'\n",
    "    nsents = len(sentences)\n",
    "    weights = np.zeros([nsents,nsents])\n",
    "    priors = np.zeros(nsents)\n",
    "    #create prior_weights\n",
    "    for i in range(len(sentences)):\n",
    "        priors[i] = prior_func(sentences[i],sentences)\n",
    "    #create weights\n",
    "    for i in range(len(sentences)):\n",
    "        for j in range(len(sentences)):\n",
    "            weights[i][j] = weight_func(sentences[i],sentences[j],sentences)\n",
    "    return (weights,priors)"
   ]
  },
  {
   "cell_type": "code",
   "execution_count": 149,
   "metadata": {
    "collapsed": false
   },
   "outputs": [],
   "source": [
    "def uniform_prior(sentence,sentences):\n",
    "    return 1/len(sentences)"
   ]
  },
  {
   "cell_type": "code",
   "execution_count": 150,
   "metadata": {
    "collapsed": false
   },
   "outputs": [],
   "source": [
    "def uniform_weight(sentence1,sentence2,sentences):\n",
    "    return 1"
   ]
  },
  {
   "cell_type": "code",
   "execution_count": 158,
   "metadata": {
    "collapsed": false
   },
   "outputs": [],
   "source": [
    "box = build_graph_matrix(sentences,uniform_prior,uniform_weight)"
   ]
  },
  {
   "cell_type": "code",
   "execution_count": 159,
   "metadata": {
    "collapsed": false
   },
   "outputs": [],
   "source": [
    "g = box[0]\n",
    "p = box[1]"
   ]
  },
  {
   "cell_type": "code",
   "execution_count": 155,
   "metadata": {
    "collapsed": false
   },
   "outputs": [
    {
     "name": "stdout",
     "output_type": "stream",
     "text": [
      "[[ 1.  1.  1. ...,  1.  1.  1.]\n",
      " [ 1.  1.  1. ...,  1.  1.  1.]\n",
      " [ 1.  1.  1. ...,  1.  1.  1.]\n",
      " ..., \n",
      " [ 1.  1.  1. ...,  1.  1.  1.]\n",
      " [ 1.  1.  1. ...,  1.  1.  1.]\n",
      " [ 1.  1.  1. ...,  1.  1.  1.]]\n"
     ]
    }
   ],
   "source": [
    "print(g)"
   ]
  },
  {
   "cell_type": "code",
   "execution_count": 160,
   "metadata": {
    "collapsed": false
   },
   "outputs": [
    {
     "name": "stdout",
     "output_type": "stream",
     "text": [
      "[ 0.02439024  0.02439024  0.02439024  0.02439024  0.02439024  0.02439024\n",
      "  0.02439024  0.02439024  0.02439024  0.02439024  0.02439024  0.02439024\n",
      "  0.02439024  0.02439024  0.02439024  0.02439024  0.02439024  0.02439024\n",
      "  0.02439024  0.02439024  0.02439024  0.02439024  0.02439024  0.02439024\n",
      "  0.02439024  0.02439024  0.02439024  0.02439024  0.02439024  0.02439024\n",
      "  0.02439024  0.02439024  0.02439024  0.02439024  0.02439024  0.02439024\n",
      "  0.02439024  0.02439024  0.02439024  0.02439024  0.02439024]\n"
     ]
    }
   ],
   "source": [
    "print(p)"
   ]
  },
  {
   "cell_type": "code",
   "execution_count": 176,
   "metadata": {
    "collapsed": true
   },
   "outputs": [],
   "source": [
    "def prestige(sentence_index,ranks,weights):\n",
    "    sum = 0\n",
    "    for j in range(len(weights[sentence_index])):\n",
    "        sum += (ranks[j] * weights[sentence_index][j]) / np.sum(weights[j])\n",
    "    return sum"
   ]
  },
  {
   "cell_type": "code",
   "execution_count": 186,
   "metadata": {
    "collapsed": true
   },
   "outputs": [],
   "source": [
    "def rank(weights,priors,itermax,damping):\n",
    "    i = 0\n",
    "    nsents = len(priors)\n",
    "    pr = np.random.rand(nsents)\n",
    "    \n",
    "    while i < itermax:\n",
    "        aux = pr\n",
    "        for j in range(nsents):\n",
    "            random = damping * (priors[j]/np.sum(priors))\n",
    "            not_random = (1 - damping) * prestige(j,pr,weights)\n",
    "            aux[j] = random + not_random\n",
    "        pr = aux\n",
    "        i += 1\n",
    "    return pr"
   ]
  },
  {
   "cell_type": "code",
   "execution_count": 207,
   "metadata": {
    "collapsed": true
   },
   "outputs": [],
   "source": [
    "def build_summary(sentences):\n",
    "\n",
    "    box = build_graph_matrix(sentences,uniform_prior,uniform_weight)\n",
    "    weights = box[0]\n",
    "    priors = box[1]\n",
    "    ranks = rank(weights,priors,50,0.15)\n",
    "    top = get_top_n(ranks,5)\n",
    "    summary = \"\"\n",
    "    for i in top:\n",
    "        summary += sentences[int(i[0])] + '\\n'\n",
    "    return summary\n"
   ]
  },
  {
   "cell_type": "code",
   "execution_count": 195,
   "metadata": {
    "collapsed": false
   },
   "outputs": [],
   "source": [
    "def get_top_n(array,n):\n",
    "    indexes = np.argsort(array)\n",
    "    top = {}\n",
    "    for i in range(n):\n",
    "        top[str(i)] = (array[indexes[i]])\n",
    "    return top"
   ]
  },
  {
   "cell_type": "code",
   "execution_count": 208,
   "metadata": {
    "collapsed": false
   },
   "outputs": [
    {
     "data": {
      "text/plain": [
       "'Como direcionar sua empresa para o cliente.\\nÉ preciso inverter as estruturas para diminuir a distância entre o cliente e os que detêm o poder de decisão.\\nEmpresa fadada ao insucesso tem duas caras: uma real, outra para o cliente.\\nNa hora de vender, promessas; quando o cliente confere, decepções.\\nÉ difícil encontrar o responsável, quando a empresa não é direcionada à satisfação total dos clientes.\\n'"
      ]
     },
     "execution_count": 208,
     "metadata": {},
     "output_type": "execute_result"
    }
   ],
   "source": [
    "build_summary(sentences)"
   ]
  },
  {
   "cell_type": "code",
   "execution_count": 164,
   "metadata": {
    "collapsed": false
   },
   "outputs": [
    {
     "name": "stdout",
     "output_type": "stream",
     "text": [
      "1.46797244044\n"
     ]
    }
   ],
   "source": [
    "print(np.sum(r))"
   ]
  },
  {
   "cell_type": "code",
   "execution_count": 168,
   "metadata": {
    "collapsed": false
   },
   "outputs": [
    {
     "data": {
      "text/plain": [
       "range(0, 4)"
      ]
     },
     "execution_count": 168,
     "metadata": {},
     "output_type": "execute_result"
    }
   ],
   "source": [
    "range(4)"
   ]
  },
  {
   "cell_type": "code",
   "execution_count": 169,
   "metadata": {
    "collapsed": false
   },
   "outputs": [
    {
     "name": "stdout",
     "output_type": "stream",
     "text": [
      "0\n",
      "1\n",
      "2\n",
      "3\n",
      "4\n"
     ]
    }
   ],
   "source": [
    "for i in range(5):\n",
    "    print(i)"
   ]
  },
  {
   "cell_type": "code",
   "execution_count": null,
   "metadata": {
    "collapsed": true
   },
   "outputs": [],
   "source": []
  }
 ],
 "metadata": {
  "kernelspec": {
   "display_name": "Python 3",
   "language": "python",
   "name": "python3"
  },
  "language_info": {
   "codemirror_mode": {
    "name": "ipython",
    "version": 3
   },
   "file_extension": ".py",
   "mimetype": "text/x-python",
   "name": "python",
   "nbconvert_exporter": "python",
   "pygments_lexer": "ipython3",
   "version": "3.6.3"
  }
 },
 "nbformat": 4,
 "nbformat_minor": 2
}
