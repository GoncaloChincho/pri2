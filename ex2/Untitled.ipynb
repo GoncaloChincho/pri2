{
 "cells": [
  {
   "cell_type": "code",
   "execution_count": 209,
   "metadata": {
    "collapsed": false
   },
   "outputs": [],
   "source": [
    "import os\n",
    "import numpy as np\n",
    "import nltk\n",
    "from sklearn.feature_extraction.text import TfidfVectorizer\n",
    "from sklearn.metrics.pairwise import cosine_similarity\n",
    "import re\n",
    "exec(open('../functions.py').read())"
   ]
  },
  {
   "cell_type": "code",
   "execution_count": null,
   "metadata": {
    "collapsed": true
   },
   "outputs": [],
   "source": [
    "#Build graph adjacency list\n",
    "def build_graph_matrix(documents,cosine_matrix,t):\n",
    "    matrix = np.zeros\n",
    "    for i in range(len(documents)):\n",
    "        id = str(i)\n",
    "        graph[id] = []\n",
    "        for j in range(len(cosine_matrix[i])):\n",
    "            if cosine_matrix[i][j] >= t and i != j:\n",
    "                graph[id].append(str(j))\n",
    "    return graph"
   ]
  },
  {
   "cell_type": "code",
   "execution_count": 210,
   "metadata": {
    "collapsed": false
   },
   "outputs": [],
   "source": [
    "with open(r'../TeMario/source/ce94ab10-a.txt','r',encoding='latin-1') as file:\n",
    "    text = file.read()"
   ]
  },
  {
   "cell_type": "code",
   "execution_count": 211,
   "metadata": {
    "collapsed": false
   },
   "outputs": [
    {
     "ename": "NameError",
     "evalue": "name 'tre' is not defined",
     "output_type": "error",
     "traceback": [
      "\u001b[0;31m---------------------------------------------------------------------------\u001b[0m",
      "\u001b[0;31mNameError\u001b[0m                                 Traceback (most recent call last)",
      "\u001b[0;32m<ipython-input-211-3077652ba010>\u001b[0m in \u001b[0;36m<module>\u001b[0;34m()\u001b[0m\n\u001b[0;32m----> 1\u001b[0;31m \u001b[0mtext_to_sentences\u001b[0m\u001b[0;34m(\u001b[0m\u001b[0mtext\u001b[0m\u001b[0;34m)\u001b[0m\u001b[0;34m\u001b[0m\u001b[0m\n\u001b[0m",
      "\u001b[0;32m<string>\u001b[0m in \u001b[0;36mtext_to_sentences\u001b[0;34m(text)\u001b[0m\n",
      "\u001b[0;31mNameError\u001b[0m: name 'tre' is not defined"
     ]
    }
   ],
   "source": [
    "text_to_sentences(text)"
   ]
  },
  {
   "cell_type": "code",
   "execution_count": 127,
   "metadata": {
    "collapsed": false
   },
   "outputs": [],
   "source": [
    "vec = TfidfVectorizer()\n",
    "\n",
    "X = vec.fit_transform(sentences)\n",
    "S = cosine_similarity(X)"
   ]
  },
  {
   "cell_type": "markdown",
   "metadata": {
    "collapsed": false
   },
   "source": [
    "# WEIGHTS"
   ]
  },
  {
   "cell_type": "code",
   "execution_count": 157,
   "metadata": {
    "collapsed": true
   },
   "outputs": [],
   "source": [
    "def build_graph_matrix(sentences,prior_func,weight_func):\n",
    "    if not (callable(prior_func) and callable(weight_func)):\n",
    "        return 'Not functions!'\n",
    "    nsents = len(sentences)\n",
    "    weights = np.zeros([nsents,nsents])\n",
    "    priors = np.zeros(nsents)\n",
    "    #create prior_weights\n",
    "    for i in range(len(sentences)):\n",
    "        priors[i] = prior_func(sentences[i],sentences)\n",
    "    #create weights\n",
    "    for i in range(len(sentences)):\n",
    "        for j in range(len(sentences)):\n",
    "            weights[i][j] = weight_func(sentences[i],sentences[j],sentences)\n",
    "    return (weights,priors)"
   ]
  },
  {
   "cell_type": "code",
   "execution_count": 149,
   "metadata": {
    "collapsed": false
   },
   "outputs": [],
   "source": [
    "def uniform_prior(sentence,sentences):\n",
    "    return 1/len(sentences)"
   ]
  },
  {
   "cell_type": "code",
   "execution_count": 150,
   "metadata": {
    "collapsed": false
   },
   "outputs": [],
   "source": [
    "def uniform_weight(sentence1,sentence2,sentences):\n",
    "    return 1"
   ]
  },
  {
   "cell_type": "code",
   "execution_count": 158,
   "metadata": {
    "collapsed": false
   },
   "outputs": [],
   "source": [
    "box = build_graph_matrix(sentences,uniform_prior,uniform_weight)"
   ]
  },
  {
   "cell_type": "code",
   "execution_count": 159,
   "metadata": {
    "collapsed": false
   },
   "outputs": [],
   "source": [
    "g = box[0]\n",
    "p = box[1]"
   ]
  },
  {
   "cell_type": "code",
   "execution_count": 155,
   "metadata": {
    "collapsed": false
   },
   "outputs": [
    {
     "name": "stdout",
     "output_type": "stream",
     "text": [
      "[[ 1.  1.  1. ...,  1.  1.  1.]\n",
      " [ 1.  1.  1. ...,  1.  1.  1.]\n",
      " [ 1.  1.  1. ...,  1.  1.  1.]\n",
      " ..., \n",
      " [ 1.  1.  1. ...,  1.  1.  1.]\n",
      " [ 1.  1.  1. ...,  1.  1.  1.]\n",
      " [ 1.  1.  1. ...,  1.  1.  1.]]\n"
     ]
    }
   ],
   "source": [
    "print(g)"
   ]
  },
  {
   "cell_type": "code",
   "execution_count": 160,
   "metadata": {
    "collapsed": false
   },
   "outputs": [
    {
     "name": "stdout",
     "output_type": "stream",
     "text": [
      "[ 0.02439024  0.02439024  0.02439024  0.02439024  0.02439024  0.02439024\n",
      "  0.02439024  0.02439024  0.02439024  0.02439024  0.02439024  0.02439024\n",
      "  0.02439024  0.02439024  0.02439024  0.02439024  0.02439024  0.02439024\n",
      "  0.02439024  0.02439024  0.02439024  0.02439024  0.02439024  0.02439024\n",
      "  0.02439024  0.02439024  0.02439024  0.02439024  0.02439024  0.02439024\n",
      "  0.02439024  0.02439024  0.02439024  0.02439024  0.02439024  0.02439024\n",
      "  0.02439024  0.02439024  0.02439024  0.02439024  0.02439024]\n"
     ]
    }
   ],
   "source": [
    "print(p)"
   ]
  },
  {
   "cell_type": "code",
   "execution_count": 176,
   "metadata": {
    "collapsed": true
   },
   "outputs": [],
   "source": [
    "def prestige(sentence_index,ranks,weights):\n",
    "    sum = 0\n",
    "    for j in range(len(weights[sentence_index])):\n",
    "        sum += (ranks[j] * weights[sentence_index][j]) / np.sum(weights[j])\n",
    "    return sum"
   ]
  },
  {
   "cell_type": "code",
   "execution_count": 186,
   "metadata": {
    "collapsed": true
   },
   "outputs": [],
   "source": [
    "def rank(weights,priors,itermax,damping):\n",
    "    i = 0\n",
    "    nsents = len(priors)\n",
    "    pr = np.random.rand(nsents)\n",
    "    \n",
    "    while i < itermax:\n",
    "        aux = pr\n",
    "        for j in range(nsents):\n",
    "            random = damping * (priors[j]/np.sum(priors))\n",
    "            not_random = (1 - damping) * prestige(j,pr,weights)\n",
    "            aux[j] = random + not_random\n",
    "        pr = aux\n",
    "        i += 1\n",
    "    return pr"
   ]
  },
  {
   "cell_type": "code",
   "execution_count": 207,
   "metadata": {
    "collapsed": true
   },
   "outputs": [],
   "source": [
    "def build_summary(sentences):\n",
    "\n",
    "    box = build_graph_matrix(sentences,uniform_prior,uniform_weight)\n",
    "    weights = box[0]\n",
    "    priors = box[1]\n",
    "    ranks = rank(weights,priors,50,0.15)\n",
    "    top = get_top_n(ranks,5)\n",
    "    summary = \"\"\n",
    "    for i in top:\n",
    "        summary += sentences[int(i[0])] + '\\n'\n",
    "    return summary\n"
   ]
  },
  {
   "cell_type": "code",
   "execution_count": 195,
   "metadata": {
    "collapsed": false
   },
   "outputs": [],
   "source": [
    "def get_top_n(array,n):\n",
    "    indexes = np.argsort(array)\n",
    "    top = {}\n",
    "    for i in range(n):\n",
    "        top[str(i)] = (array[indexes[i]])\n",
    "    return top"
   ]
  },
  {
   "cell_type": "code",
   "execution_count": 208,
   "metadata": {
    "collapsed": false
   },
   "outputs": [
    {
     "data": {
      "text/plain": [
       "'Como direcionar sua empresa para o cliente.\\nÉ preciso inverter as estruturas para diminuir a distância entre o cliente e os que detêm o poder de decisão.\\nEmpresa fadada ao insucesso tem duas caras: uma real, outra para o cliente.\\nNa hora de vender, promessas; quando o cliente confere, decepções.\\nÉ difícil encontrar o responsável, quando a empresa não é direcionada à satisfação total dos clientes.\\n'"
      ]
     },
     "execution_count": 208,
     "metadata": {},
     "output_type": "execute_result"
    }
   ],
   "source": [
    "build_summary(sentences)"
   ]
  },
  {
   "cell_type": "code",
   "execution_count": 164,
   "metadata": {
    "collapsed": false
   },
   "outputs": [
    {
     "name": "stdout",
     "output_type": "stream",
     "text": [
      "1.46797244044\n"
     ]
    }
   ],
   "source": [
    "print(np.sum(r))"
   ]
  },
  {
   "cell_type": "code",
   "execution_count": 168,
   "metadata": {
    "collapsed": false
   },
   "outputs": [
    {
     "data": {
      "text/plain": [
       "range(0, 4)"
      ]
     },
     "execution_count": 168,
     "metadata": {},
     "output_type": "execute_result"
    }
   ],
   "source": [
    "range(4)"
   ]
  },
  {
   "cell_type": "code",
   "execution_count": 169,
   "metadata": {
    "collapsed": false
   },
   "outputs": [
    {
     "name": "stdout",
     "output_type": "stream",
     "text": [
      "0\n",
      "1\n",
      "2\n",
      "3\n",
      "4\n"
     ]
    }
   ],
   "source": [
    "for i in range(5):\n",
    "    print(i)"
   ]
  },
  {
   "cell_type": "code",
   "execution_count": null,
   "metadata": {
    "collapsed": true
   },
   "outputs": [],
   "source": []
  }
 ],
 "metadata": {
  "kernelspec": {
   "display_name": "Python 3",
   "language": "python",
   "name": "python3"
  },
  "language_info": {
   "codemirror_mode": {
    "name": "ipython",
    "version": 3
   },
   "file_extension": ".py",
   "mimetype": "text/x-python",
   "name": "python",
   "nbconvert_exporter": "python",
   "pygments_lexer": "ipython3",
   "version": "3.6.3"
  }
 },
 "nbformat": 4,
 "nbformat_minor": 2
}
