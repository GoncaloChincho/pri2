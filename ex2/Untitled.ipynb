{
 "cells": [
  {
   "cell_type": "code",
   "execution_count": 216,
   "metadata": {
    "collapsed": false
   },
   "outputs": [],
   "source": [
    "import os\n",
    "import numpy as np\n",
    "import nltk\n",
    "from sklearn.feature_extraction.text import TfidfVectorizer\n",
    "from sklearn.metrics.pairwise import cosine_similarity\n",
    "import re\n",
    "exec(open('../functions.py').read())"
   ]
  },
  {
   "cell_type": "code",
   "execution_count": null,
   "metadata": {
    "collapsed": true
   },
   "outputs": [],
   "source": [
    "#Build graph adjacency list\n",
    "def build_graph_matrix(documents,cosine_matrix,t):\n",
    "    matrix = np.zeros\n",
    "    for i in range(len(documents)):\n",
    "        id = str(i)\n",
    "        graph[id] = []\n",
    "        for j in range(len(cosine_matrix[i])):\n",
    "            if cosine_matrix[i][j] >= t and i != j:\n",
    "                graph[id].append(str(j))\n",
    "    return graph"
   ]
  },
  {
   "cell_type": "code",
   "execution_count": 210,
   "metadata": {
    "collapsed": false
   },
   "outputs": [],
   "source": [
    "with open(r'../TeMario/source/ce94ab10-a.txt','r',encoding='latin-1') as file:\n",
    "    text = file.read()"
   ]
  },
  {
   "cell_type": "code",
   "execution_count": 217,
   "metadata": {
    "collapsed": false
   },
   "outputs": [
    {
     "data": {
      "text/plain": [
       "['como direcionar sua empresa para o cliente.',\n",
       " 'é preciso inverter as estruturas para diminuir a distância entre o cliente e os que detêm o poder de decisão.',\n",
       " 'empresa fadada ao insucesso tem duas caras: uma real, outra para o cliente.',\n",
       " 'na hora de vender, promessas; quando o cliente confere, decepções.',\n",
       " 'é difícil encontrar o responsável, quando a empresa não é direcionada à satisfação total dos clientes.',\n",
       " 'nas estruturas tradicionais de empresas, onde o mando predomina sobre a responsabilidade individual, não é possível sequer aprender em cima dos próprios erros.',\n",
       " 'faz-se de tudo para que não haja registro do erro, para que ele não seja do conhecimento dos que detêm o poder de mando.',\n",
       " 'é preciso inverter a estrutura, colocando o cliente como a pessoa mais importante da organização.',\n",
       " 'mas isso não pode ser apenas um discurso de boas intenções.',\n",
       " 'vai exigir mudanças para as quais existem duas palavras-chave: delegação e cooperação; disseminação das informações.',\n",
       " '1 satisfação do cliente.',\n",
       " 'colocar a pessoa certa, na hora certa, para fazer certo, da primeira vez, o que o cliente deseja.',\n",
       " 'este é o padrão de excelência desejado.',\n",
       " 'mas será que existe mesmo na organização o \"lugar certo\" para essa \"pessoa certa\"?',\n",
       " 'será que a estrutura da empresa está direcionada à satisfação total do cliente?.',\n",
       " 'a maioria das empresas possui estruturas tradicionais de comando, onde o cliente relaciona-se com as pessoas que têm menor poder de decisão.',\n",
       " 'existe uma distância enorme entre os que detêm o poder (a direção superior) e o cliente.',\n",
       " 'o ovo de colombo é revirar totalmente esta estrutura superada.',\n",
       " 'e adotar a \"pirâmide invertida\" da qualidade total.',\n",
       " 'aí, as pessoas mais importantes na organização passam a ser as de atendimento e vendas.',\n",
       " 'são elas que têm contato direto com o cliente.',\n",
       " 'os demais funcionários são responsáveis pelo bom desempenho do pessoal de frente.',\n",
       " 'a direção fica na base da pirâmide: seu papel é dar sustentação à finalidade de bem atender.',\n",
       " 'a delegação de poder é fundamental nesse tipo de organização participativa e cooperativa.',\n",
       " 'os acontecimentos mais importantes não são as reuniões de chefia, mas os momentos em que a empresa tem contato direto com o cliente, os \"momentos da verdade\".',\n",
       " 'a empresa passa a estruturar-se para transformar em sucesso esses \"momentos da verdade\".',\n",
       " 'por isso, os clientes estão no topo do organograma.',\n",
       " 'todos os demais setores se transformam em fornecedores de facilidade para os eventos de satisfação do cliente.',\n",
       " 'o fluxo de operações estará direcionado para o atendimento do cliente.',\n",
       " '2 relacionamento cooperativo.',\n",
       " 'a responsabilidade compartilhada e o trabalho em equipe só poderão se desenvolver se a estrutura permitir uma interação constante entre as áreas.',\n",
       " 'a empresa toda é um macroprocesso, uma equipe única voltada para o objetivo comum de atingir altos níveis de produtividade, com a manutenção e a conquista de novos clientes.',\n",
       " '3 disseminação de informações.',\n",
       " 'o fluxo de informações que parte do cliente (pedidos, avaliações, reclamações, expectativas) passa pelos diferentes departamentos da empresa e deve retornar como resposta e solução, de maneira ágil, ao cliente.',\n",
       " 'o fluxo da decisão e a cadeia cliente-fornecedor devem estar alinhados aos valores que o cliente preza: cortesia, presteza, eficiência, receptividade e personalização.',\n",
       " 'é conhecido o fenômeno de \"ruído na comunicação\": a informação se enfraquece e deforma quanto maior o número de transmissores e receptores intermediários.',\n",
       " 'é comum a gerência desconhecer a realidade da operação \"na ponta\".',\n",
       " 'a perda de competitividade é a consequência mais direta da falta de agilidade nas decisões, perda de informações, aumento da burocracia interna, pois, nos \"momentos da verdade\", o funcionário precisa tomar decisões que implicam, muitas vezes, questões vitais para o cliente.',\n",
       " 'frequentes consultas aos níveis superiores causam perda de tempo e dinheiro.',\n",
       " 'a redução dos níveis hierárquicos ao mínimo necessário traz agilidade.',\n",
       " 'experimente.']"
      ]
     },
     "execution_count": 217,
     "metadata": {},
     "output_type": "execute_result"
    }
   ],
   "source": [
    "text_to_sentences(text)"
   ]
  },
  {
   "cell_type": "code",
   "execution_count": 127,
   "metadata": {
    "collapsed": false
   },
   "outputs": [],
   "source": [
    "vec = TfidfVectorizer()\n",
    "\n",
    "X = vec.fit_transform(sentences)\n",
    "S = cosine_similarity(X)"
   ]
  },
  {
   "cell_type": "markdown",
   "metadata": {
    "collapsed": false
   },
   "source": [
    "# WEIGHTS"
   ]
  },
  {
   "cell_type": "code",
   "execution_count": 157,
   "metadata": {
    "collapsed": true
   },
   "outputs": [],
   "source": [
    "def build_graph_matrix(sentences,prior_func,weight_func):\n",
    "    if not (callable(prior_func) and callable(weight_func)):\n",
    "        return 'Not functions!'\n",
    "    nsents = len(sentences)\n",
    "    weights = np.zeros([nsents,nsents])\n",
    "    priors = np.zeros(nsents)\n",
    "    #create prior_weights\n",
    "    for i in range(len(sentences)):\n",
    "        priors[i] = prior_func(sentences[i],sentences)\n",
    "    #create weights\n",
    "    for i in range(len(sentences)):\n",
    "        for j in range(len(sentences)):\n",
    "            weights[i][j] = weight_func(sentences[i],sentences[j],sentences)\n",
    "    return (weights,priors)"
   ]
  },
  {
   "cell_type": "code",
   "execution_count": 149,
   "metadata": {
    "collapsed": false
   },
   "outputs": [],
   "source": [
    "def uniform_prior(sentence,sentences):\n",
    "    return 1/len(sentences)"
   ]
  },
  {
   "cell_type": "code",
   "execution_count": 150,
   "metadata": {
    "collapsed": false
   },
   "outputs": [],
   "source": [
    "def uniform_weight(sentence1,sentence2,sentences):\n",
    "    return 1"
   ]
  },
  {
   "cell_type": "code",
   "execution_count": 158,
   "metadata": {
    "collapsed": false
   },
   "outputs": [],
   "source": [
    "box = build_graph_matrix(sentences,uniform_prior,uniform_weight)"
   ]
  },
  {
   "cell_type": "code",
   "execution_count": 159,
   "metadata": {
    "collapsed": false
   },
   "outputs": [],
   "source": [
    "g = box[0]\n",
    "p = box[1]"
   ]
  },
  {
   "cell_type": "code",
   "execution_count": 155,
   "metadata": {
    "collapsed": false
   },
   "outputs": [
    {
     "name": "stdout",
     "output_type": "stream",
     "text": [
      "[[ 1.  1.  1. ...,  1.  1.  1.]\n",
      " [ 1.  1.  1. ...,  1.  1.  1.]\n",
      " [ 1.  1.  1. ...,  1.  1.  1.]\n",
      " ..., \n",
      " [ 1.  1.  1. ...,  1.  1.  1.]\n",
      " [ 1.  1.  1. ...,  1.  1.  1.]\n",
      " [ 1.  1.  1. ...,  1.  1.  1.]]\n"
     ]
    }
   ],
   "source": [
    "print(g)"
   ]
  },
  {
   "cell_type": "code",
   "execution_count": 160,
   "metadata": {
    "collapsed": false
   },
   "outputs": [
    {
     "name": "stdout",
     "output_type": "stream",
     "text": [
      "[ 0.02439024  0.02439024  0.02439024  0.02439024  0.02439024  0.02439024\n",
      "  0.02439024  0.02439024  0.02439024  0.02439024  0.02439024  0.02439024\n",
      "  0.02439024  0.02439024  0.02439024  0.02439024  0.02439024  0.02439024\n",
      "  0.02439024  0.02439024  0.02439024  0.02439024  0.02439024  0.02439024\n",
      "  0.02439024  0.02439024  0.02439024  0.02439024  0.02439024  0.02439024\n",
      "  0.02439024  0.02439024  0.02439024  0.02439024  0.02439024  0.02439024\n",
      "  0.02439024  0.02439024  0.02439024  0.02439024  0.02439024]\n"
     ]
    }
   ],
   "source": [
    "print(p)"
   ]
  },
  {
   "cell_type": "code",
   "execution_count": 176,
   "metadata": {
    "collapsed": true
   },
   "outputs": [],
   "source": [
    "def prestige(sentence_index,ranks,weights):\n",
    "    sum = 0\n",
    "    for j in range(len(weights[sentence_index])):\n",
    "        sum += (ranks[j] * weights[sentence_index][j]) / np.sum(weights[j])\n",
    "    return sum"
   ]
  },
  {
   "cell_type": "code",
   "execution_count": 186,
   "metadata": {
    "collapsed": true
   },
   "outputs": [],
   "source": [
    "def rank(weights,priors,itermax,damping):\n",
    "    i = 0\n",
    "    nsents = len(priors)\n",
    "    pr = np.random.rand(nsents)\n",
    "    \n",
    "    while i < itermax:\n",
    "        aux = pr\n",
    "        for j in range(nsents):\n",
    "            random = damping * (priors[j]/np.sum(priors))\n",
    "            not_random = (1 - damping) * prestige(j,pr,weights)\n",
    "            aux[j] = random + not_random\n",
    "        pr = aux\n",
    "        i += 1\n",
    "    return pr"
   ]
  },
  {
   "cell_type": "code",
   "execution_count": 207,
   "metadata": {
    "collapsed": true
   },
   "outputs": [],
   "source": [
    "def build_summary(sentences):\n",
    "\n",
    "    box = build_graph_matrix(sentences,uniform_prior,uniform_weight)\n",
    "    weights = box[0]\n",
    "    priors = box[1]\n",
    "    ranks = rank(weights,priors,50,0.15)\n",
    "    top = get_top_n(ranks,5)\n",
    "    summary = \"\"\n",
    "    for i in top:\n",
    "        summary += sentences[int(i[0])] + '\\n'\n",
    "    return summary\n"
   ]
  },
  {
   "cell_type": "code",
   "execution_count": 195,
   "metadata": {
    "collapsed": false
   },
   "outputs": [],
   "source": [
    "def get_top_n(array,n):\n",
    "    indexes = np.argsort(array)\n",
    "    top = {}\n",
    "    for i in range(n):\n",
    "        top[str(i)] = (array[indexes[i]])\n",
    "    return top"
   ]
  },
  {
   "cell_type": "code",
   "execution_count": 208,
   "metadata": {
    "collapsed": false
   },
   "outputs": [
    {
     "data": {
      "text/plain": [
       "'Como direcionar sua empresa para o cliente.\\nÉ preciso inverter as estruturas para diminuir a distância entre o cliente e os que detêm o poder de decisão.\\nEmpresa fadada ao insucesso tem duas caras: uma real, outra para o cliente.\\nNa hora de vender, promessas; quando o cliente confere, decepções.\\nÉ difícil encontrar o responsável, quando a empresa não é direcionada à satisfação total dos clientes.\\n'"
      ]
     },
     "execution_count": 208,
     "metadata": {},
     "output_type": "execute_result"
    }
   ],
   "source": [
    "build_summary(sentences)"
   ]
  },
  {
   "cell_type": "code",
   "execution_count": 164,
   "metadata": {
    "collapsed": false
   },
   "outputs": [
    {
     "name": "stdout",
     "output_type": "stream",
     "text": [
      "1.46797244044\n"
     ]
    }
   ],
   "source": [
    "print(np.sum(r))"
   ]
  },
  {
   "cell_type": "code",
   "execution_count": 168,
   "metadata": {
    "collapsed": false
   },
   "outputs": [
    {
     "data": {
      "text/plain": [
       "range(0, 4)"
      ]
     },
     "execution_count": 168,
     "metadata": {},
     "output_type": "execute_result"
    }
   ],
   "source": [
    "range(4)"
   ]
  },
  {
   "cell_type": "code",
   "execution_count": 169,
   "metadata": {
    "collapsed": false
   },
   "outputs": [
    {
     "name": "stdout",
     "output_type": "stream",
     "text": [
      "0\n",
      "1\n",
      "2\n",
      "3\n",
      "4\n"
     ]
    }
   ],
   "source": [
    "for i in range(5):\n",
    "    print(i)"
   ]
  },
  {
   "cell_type": "code",
   "execution_count": null,
   "metadata": {
    "collapsed": true
   },
   "outputs": [],
   "source": []
  }
 ],
 "metadata": {
  "kernelspec": {
   "display_name": "Python 3",
   "language": "python",
   "name": "python3"
  },
  "language_info": {
   "codemirror_mode": {
    "name": "ipython",
    "version": 3
   },
   "file_extension": ".py",
   "mimetype": "text/x-python",
   "name": "python",
   "nbconvert_exporter": "python",
   "pygments_lexer": "ipython3",
   "version": "3.6.3"
  }
 },
 "nbformat": 4,
 "nbformat_minor": 2
}
