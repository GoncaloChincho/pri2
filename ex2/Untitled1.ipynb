{
 "cells": [
  {
   "cell_type": "code",
   "execution_count": 61,
   "metadata": {
    "collapsed": true
   },
   "outputs": [],
   "source": [
    "from sklearn.feature_extraction.text import TfidfVectorizer\n",
    "import os\n",
    "from sklearn.metrics.pairwise import cosine_similarity\n",
    "exec(open('../functions.py').read())"
   ]
  },
  {
   "cell_type": "code",
   "execution_count": 26,
   "metadata": {
    "collapsed": true
   },
   "outputs": [],
   "source": [
    "def get_cosine_similarities(sentences):\t\n",
    "    vec = TfidfVectorizer()\n",
    "\n",
    "    X = vec.fit_transform(sentences)\n",
    "    return cosine_similarity(X)\n"
   ]
  },
  {
   "cell_type": "code",
   "execution_count": 27,
   "metadata": {
    "collapsed": true
   },
   "outputs": [],
   "source": [
    "def get_cosine_similarity(sentence1,sentence2,sentences,cosine_matrix):\n",
    "    s1i = sentences.index(sentence1)\n",
    "    s2i = sentences.index(sentence2)\n",
    "    return cosine_matrix[s1i][s2i]"
   ]
  },
  {
   "cell_type": "code",
   "execution_count": 62,
   "metadata": {
    "collapsed": false
   },
   "outputs": [],
   "source": [
    "source_path = '../TeMario/source/'\n",
    "source_texts = os.listdir(source_path)"
   ]
  },
  {
   "cell_type": "code",
   "execution_count": 63,
   "metadata": {
    "collapsed": false
   },
   "outputs": [],
   "source": [
    "with open(source_path + source_texts[0],'r',encoding='latin-1') as file:\n",
    "    text = file.read()"
   ]
  },
  {
   "cell_type": "code",
   "execution_count": 64,
   "metadata": {
    "collapsed": false
   },
   "outputs": [],
   "source": [
    "sentences = text_to_sentences(text)"
   ]
  },
  {
   "cell_type": "code",
   "execution_count": 28,
   "metadata": {
    "collapsed": false
   },
   "outputs": [],
   "source": [
    "cos = get_cosine_similarities(sentences)"
   ]
  },
  {
   "cell_type": "code",
   "execution_count": 30,
   "metadata": {
    "collapsed": false
   },
   "outputs": [
    {
     "name": "stdout",
     "output_type": "stream",
     "text": [
      "1.0\n"
     ]
    }
   ],
   "source": [
    "print(get_cosine_similarity('massacre no líbano.','massacre no líbano.',sentences,cos))"
   ]
  },
  {
   "cell_type": "code",
   "execution_count": 65,
   "metadata": {
    "collapsed": false
   },
   "outputs": [
    {
     "name": "stdout",
     "output_type": "stream",
     "text": [
      "['Massacre no Líbano.', 'Apanhado na dinâmica do olho por olho, dente por dente, Israel erra o alvo e mata 100 libaneses num campo de refugiados.', 'BEIRUTE - O confronto entre Israel e a guerrilha fundamentalista do Hisbolá (Partido de Deus) completou ontem oito dias de forma sangrenta.', 'Bombardeios da artilharia israelense contra o Sul do Líbano provocaram dois massacres: o primeiro, em Nabatié, matou 10 pessoas, entre elas um bebê de três dias.', 'O segundo, horas depois, atingiu uma base das Nações Unidas transformada em acampamento em Caná, nos arredores de Tiro, matando pelo menos 100 pessoas e ferindo mais de 190, quase todos civis, a maioria mulheres e crianças, que se haviam refugiado no local para escapar dos bombardeios israelenses.', 'O bombardeio israelense aconteceu em resposta a um ataque com foguetes Katyusha, lançados pelo Hisbolá de uma posição a 300 metros da base.', 'A rota dos foguetes foi refeita por radares israelenses, e 15 minutos depois Israel bombardeou em resposta, errando o alvo.', 'O Hisbolá negou que tivesse lançado foguetes de posições próximas à base da Força Provisória das Nações Unidas no Líbano (Unifil, das iniciais em inglês), acusando Israel, num comunicado divulgado em Beirute, de \"espalhar boatos falsos\".', 'Mas o ataque do Hisbolá foi confirmado por um porta-voz das Nações Unidas.', 'O massacre deixou indignada a população, arrasados até mesmo fotógrafos e cinegrafistas acostumados a registrar cenas semelhantes, e provocou imediata e vigorosa reação internacional.', 'Parentes da vítimas gritavam ao lado dos corpos, culpando Israel mas também acusando o Hisbolá, por ter atirado de local tão próximo ao campo sabendo que Israel costuma rastrear os ataques.', 'O primeiro-ministro israelense, Shimon Peres, disse lamentar o bombardeio, mas responsabilizou o Hisbolá pelo episódio.', '\"O único culpado é o Hisbolá, e se os sírios e os libaneses não impedirem ele vai provocar uma tragédia no Líbano\", afirmou o primeiro-ministro, durante entrevista coletiva à imprensa, em Tel Aviv.', 'Israel acusa o Líbano e a Síria de serem coniventes com os terroristas instalados em território libanês, de onde atacam constantemente alvos civis no Estado judeu.', 'Em entrevista à televisão francesa Antenne 2, o primeiro-ministro libanês, Rafic Hariri, declarou-se \"verdadeiramente comovido\" pelas declarações de Peres, e desafiou o premier israelense a mostrar \"coragem\", reconhecendo que o bombardeio foi \"um erro\".', 'Carnificina - Quinhentos civis libaneses se haviam refugiado no campo para fugir dos bombardeios israelenses ao Sul do Líbano.', 'O repórter Brent Sadler, da rede de TV a cabo CNN, falou de \"cenas terríveis de carnificina\".', 'Sadler, que esteve no local, contou que muitos fotógrafos e cinegrafistas baixaram as câmeras e começaram a chorar diante dos corpos mutilados de homens, mulheres e crianças.', 'Os feridos, entre eles alguns soldados da ONU, foram levados para hospitais de Tiro.', 'Antes do bombardeio contra Caná, um ataque da aviação israelense contra Nabatié, também no Sul do Líbano, destruiu uma casa, matando 10 pessoas, entre elas uma mãe e sete filhos.', 'Uma das crianças era um bebê, de apenas três dias.', 'O pai, em peregrinação a Meca, não chegou a conhecer o filho.', 'Apesar do choque provocado pela morte de tantos civis, Israel afirmou que pretende continuar os bombardeios.', '\"Acredito que a operação vá continuar, pelo menos por alguns dias, mas é impossível fixar um prazo.', 'Pode levar uma semana ou 10 dias\", disse o ministro do Exterior, Ehud Barak, ex-comandante militar, à rádio do exército israelense.', 'Alvos - Um porta-voz do governo israelense, Uri Dromi, reiterou que Israel não tem outra escolha, pois a prioridade é interromper os ataques de Katyushas contra o país.', 'Dromi afirmou que as operações parariam se foguetes parassem de cair.', '\"Mas o Hisbolá aumentou os ataques, em vez de cessá-los\", afirmou.', 'Os israelenses acusam o Hisbolá de se esconder atrás de civis.', 'Questionado por um repórter da CNN sobre o ataque a Nabatié, o chanceler Barak disse que Israel bombardeou a casa onde morreram vários civis porque momentos antes aviões israelenses tinham sido alvejados exatamente daquele local.', 'Quando o repórter perguntou a Barak sobre a promessa de não atacar o Hisbolá se houvesse perigo de matar civis, Barak respondeu que o piloto que bombardeou a casa não podia saber que havia civis lá.', 'Shimon Peres, que se reuniu com o presidente palestino Yasser Arafat ontem, reagiu ao ataque de Nabatié (o outro não havia ocorrido ainda) dizendo que pensava que a cidade estava vazia, que todos foram instruídos a deixar suas casas.', 'Mas os libaneses responderam a isso dizendo que não tinham para onde ir com seus filhos e perguntaram que direito Peres teria de mandá-los sair de suas casas.', 'O primeiro-ministro israelense disse que está disposto a aceitar o cessar-fogo proposto pelos EUA se o Hisbolá se comprometer a parar de atirar contra o Norte de Israel.', 'Em entrevista à CNN, de Damasco, na Síria, o primeiro-ministro libanês, Rafic Hariri, acusou Israel de obstruir as negociações.', '\"Não é o Líbano que está recusando uma solução política, é Peres\", disse Hariri.', '\"Veja o que está acontecendo.', 'Ele está matando inocentes e deixando o Hisbolá intacto\", afirmou.', 'Os ataques de Israel foram iniciados há nove dias, depois que foguetes Katyusha lançados pelo Hisbolá feriram 36 civis na cidade israelense de Kiriat Shmona.', 'Desde então, Israel vem bombardeando sistematicamente o Sul do Líbano, sem ter conseguido impingir grandes danos ao grupo terrorista - as baixas são praticamente todas civis.']\n"
     ]
    }
   ],
   "source": [
    "print(sentences)"
   ]
  },
  {
   "cell_type": "code",
   "execution_count": 68,
   "metadata": {
    "collapsed": false
   },
   "outputs": [],
   "source": [
    "import numpy as np"
   ]
  },
  {
   "cell_type": "code",
   "execution_count": 36,
   "metadata": {
    "collapsed": false
   },
   "outputs": [
    {
     "name": "stdout",
     "output_type": "stream",
     "text": [
      "0.0\n",
      "0.1\n",
      "0.2\n",
      "0.3\n",
      "0.4\n",
      "0.5\n",
      "0.6\n",
      "0.7\n",
      "0.8\n",
      "0.9\n"
     ]
    }
   ],
   "source": [
    "for i in np.arange(0.0, 1.0, 0.1):print(i)"
   ]
  },
  {
   "cell_type": "code",
   "execution_count": 18,
   "metadata": {
    "collapsed": false
   },
   "outputs": [],
   "source": [
    "y = [0.76, 0.14666666666666667, 0.2333333333333333, 0.3, 0.3333333333333333, 0.8, 0.76, 0.76, 0.76, 0.76, 0.76, 0.76, 0.76, 0.76, 0.76, 0.76, 0.76, 0.76, 0.76, 0.76, 0.76]\n"
   ]
  },
  {
   "cell_type": "code",
   "execution_count": 41,
   "metadata": {
    "collapsed": false
   },
   "outputs": [],
   "source": [
    "x = np.arange(0.0, 1.05, 0.05)\n",
    "xticks = np.arange(0.0, 1.05, 0.1)"
   ]
  },
  {
   "cell_type": "code",
   "execution_count": 25,
   "metadata": {
    "collapsed": false
   },
   "outputs": [],
   "source": [
    "import matplotlib.pyplot as plt\n",
    "import matplotlib.figure"
   ]
  },
  {
   "cell_type": "code",
   "execution_count": 42,
   "metadata": {
    "collapsed": false
   },
   "outputs": [],
   "source": [
    "plt.plot(x,y)\n",
    "plt.xticks(xticks)\n",
    "plt.grid(True)\n"
   ]
  },
  {
   "cell_type": "code",
   "execution_count": 43,
   "metadata": {
    "collapsed": false
   },
   "outputs": [
    {
     "data": {
      "image/png": "[encoded data removed]",
      "text/plain": [
       "<matplotlib.figure.Figure at 0x7fc7c5240080>"
      ]
     },
     "metadata": {},
     "output_type": "display_data"
    }
   ],
   "source": [
    "plt.show()"
   ]
  },
  {
   "cell_type": "code",
   "execution_count": 12,
   "metadata": {
    "collapsed": false
   },
   "outputs": [
    {
     "name": "stdout",
     "output_type": "stream",
     "text": [
      "[ 0.    0.05  0.1   0.15  0.2   0.25  0.3   0.35  0.4   0.45  0.5   0.55\n",
      "  0.6   0.65  0.7   0.75  0.8   0.85  0.9   0.95]\n"
     ]
    }
   ],
   "source": [
    "print(x)"
   ]
  },
  {
   "cell_type": "code",
   "execution_count": 46,
   "metadata": {
    "collapsed": false
   },
   "outputs": [],
   "source": [
    "a = [ 0.00483871 , 0.0322581 ,  0.00483871 , 0.00483871  ,0.00483871,  0.00483871,\n",
    "  0.00483871 , 0.00483871 , 0.00483871 , 0.03225809 , 0.00483871 , 0.00483871,\n",
    "  0.00483871 , 0.00483871 , 0.00483871  ,0.00483871 , 0.00483871 , 0.00483871,\n",
    "  0.00483871 , 0.00483871 , 0.00483871 , 0.00483871,  0.00483871,  0.00483871,\n",
    "  0.00483871 , 0.00483871 , 0.00483871  ,0.00483871,  0.00483871 , 0.00483871,\n",
    "  0.00483871]\n"
   ]
  },
  {
   "cell_type": "code",
   "execution_count": 51,
   "metadata": {
    "collapsed": false
   },
   "outputs": [
    {
     "data": {
      "text/plain": [
       "array([ 1,  9, 30, 14,  2,  3,  4,  5,  6,  7,  8, 10, 11, 12, 13, 15, 29,\n",
       "       16, 17, 18, 19, 20, 21, 22, 23, 24, 25, 26, 27, 28,  0])"
      ]
     },
     "execution_count": 51,
     "metadata": {},
     "output_type": "execute_result"
    }
   ],
   "source": [
    "np.flip(np.argsort(a),0)"
   ]
  },
  {
   "cell_type": "code",
   "execution_count": 53,
   "metadata": {
    "collapsed": false
   },
   "outputs": [
    {
     "data": {
      "text/plain": [
       "[28, 29, 30, 9, 1]"
      ]
     },
     "execution_count": 53,
     "metadata": {},
     "output_type": "execute_result"
    }
   ],
   "source": [
    "sorted(range(len(a)), key=lambda i: a[i])[-5:]"
   ]
  },
  {
   "cell_type": "code",
   "execution_count": 54,
   "metadata": {
    "collapsed": false
   },
   "outputs": [
    {
     "data": {
      "text/plain": [
       "[1, 9, 0, 2, 3]"
      ]
     },
     "execution_count": 54,
     "metadata": {},
     "output_type": "execute_result"
    }
   ],
   "source": [
    "sorted(range(len(a)), key=lambda i: a[i], reverse=True)[:5]"
   ]
  },
  {
   "cell_type": "code",
   "execution_count": 89,
   "metadata": {
    "collapsed": true
   },
   "outputs": [],
   "source": [
    "def uniform_prior(sent_index,graph,sentences):\n",
    "    return 1/len(sentences)\n",
    "\n",
    "#receives graph matrix for convenience...\n",
    "def degree_centrality(sent_index,graph,sentences):\n",
    "\tlinks = graph[sent_index]\n",
    "\tnonzero = np.nonzero(links)[0]\n",
    "\treturn len(nonzero)/len(links)"
   ]
  },
  {
   "cell_type": "code",
   "execution_count": 57,
   "metadata": {
    "collapsed": true
   },
   "outputs": [],
   "source": [
    "def build_graph_matrix(sentences,weight_func,t):\n",
    "    if not callable(weight_func):\n",
    "        return 'Not functions!'\n",
    "    nsents = len(sentences)\n",
    "    weights = np.zeros([nsents,nsents])\n",
    "    \n",
    "    cos_matrix = get_cosine_similarities_matrix(sentences)\n",
    "    #create weights\n",
    "    for i in range(len(sentences)):\n",
    "        for j in range(len(sentences)):\n",
    "            weights[i][j] = weight_func(i,j,sentences,cos_matrix,t)\n",
    "    return weights\n",
    "\n",
    "#sentences is a list, returns cossim matrix\n",
    "def get_cosine_similarities_matrix(sentences):\t\n",
    "\tvec = TfidfVectorizer()\n",
    "\n",
    "\tX = vec.fit_transform(sentences)\n",
    "\treturn cosine_similarity(X)\n",
    "\n",
    "#receives cossim matrix for performance reasons\n",
    "#receives indexes for performance reasons aswell...\n",
    "def cos_sim(sent1_index,sent2_index,cosine_matrix):\n",
    "    return cosine_matrix[sent1_index][sent2_index]\n",
    "\n",
    "def is_edge(sent1_index,sent2_index,cosine_matrix,t):\n",
    "\treturn (cos_sim(sent1_index,sent2_index,cosine_matrix) >= t) and (sent1_index != sent2_index)\n",
    "\n",
    "def uniform_weight(sent1_index,sent2_index,sentences,cosine_matrix,t):\n",
    "\tif is_edge(sent1_index,sent2_index,cosine_matrix,t):\n",
    "\t\treturn 1\n",
    "\telse:\n",
    "\t\treturn 0"
   ]
  },
  {
   "cell_type": "code",
   "execution_count": 92,
   "metadata": {
    "collapsed": false
   },
   "outputs": [
    {
     "name": "stdout",
     "output_type": "stream",
     "text": [
      "(array([ 3,  3,  4,  5, 14, 15, 19, 20, 31, 32, 34, 38]), array([19, 20, 15, 38, 34,  4,  3,  3, 32, 31, 14,  5]))\n"
     ]
    }
   ],
   "source": [
    "graph = build_graph_matrix(sentences,uniform_weight,0.25)\n",
    "print(np.nonzero(graph))"
   ]
  },
  {
   "cell_type": "code",
   "execution_count": 90,
   "metadata": {
    "collapsed": false
   },
   "outputs": [
    {
     "name": "stdout",
     "output_type": "stream",
     "text": [
      "0.05\n"
     ]
    }
   ],
   "source": [
    "print(degree_centrality(3,graph,sentences))"
   ]
  },
  {
   "cell_type": "code",
   "execution_count": 88,
   "metadata": {
    "collapsed": false
   },
   "outputs": [
    {
     "name": "stdout",
     "output_type": "stream",
     "text": [
      "2\n"
     ]
    }
   ],
   "source": [
    "print(len(np.nonzero(graph[3])[0]))"
   ]
  },
  {
   "cell_type": "code",
   "execution_count": 97,
   "metadata": {
    "collapsed": false
   },
   "outputs": [
    {
     "name": "stdout",
     "output_type": "stream",
     "text": [
      "0\n"
     ]
    }
   ],
   "source": [
    "a = np.array(['a','b'])\n",
    "print(np.where(a=='a')[0][0])"
   ]
  },
  {
   "cell_type": "code",
   "execution_count": null,
   "metadata": {
    "collapsed": true
   },
   "outputs": [],
   "source": []
  }
 ],
 "metadata": {
  "kernelspec": {
   "display_name": "Python 3",
   "language": "python",
   "name": "python3"
  },
  "language_info": {
   "codemirror_mode": {
    "name": "ipython",
    "version": 3
   },
   "file_extension": ".py",
   "mimetype": "text/x-python",
   "name": "python",
   "nbconvert_exporter": "python",
   "pygments_lexer": "ipython3",
   "version": "3.6.3"
  }
 },
 "nbformat": 4,
 "nbformat_minor": 2
}
